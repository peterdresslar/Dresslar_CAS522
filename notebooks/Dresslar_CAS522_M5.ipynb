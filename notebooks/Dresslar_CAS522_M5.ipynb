{
 "cells": [
  {
   "cell_type": "code",
   "execution_count": null,
   "id": "ed5b0219",
   "metadata": {},
   "outputs": [],
   "source": [
    "import requests\n",
    "\n",
    "try:\n",
    "    print(\"Loading shared code from GitHub...\")\n",
    "    url = 'https://raw.githubusercontent.com/peterdresslar/Dresslar_CAS522/main/src/shared.py'\n",
    "    response = requests.get(url)\n",
    "    response.raise_for_status()\n",
    "    exec(response.text)\n",
    "    print(\"Successfully loaded shared code.\")\n",
    "except requests.exceptions.RequestException as e:\n",
    "    print(f\"Failed to load code from GitHub: {e}\")\n",
    "    print(\"\\nPlease ensure you have an internet connection, or place the shared.py file in a 'src' directory next to this notebook.\")"
   ]
  },
  {
   "cell_type": "markdown",
   "id": "d896ef8f",
   "metadata": {},
   "source": [
    "## Dresslar CAS522 M5 Notebook\n"
   ]
  },
  {
   "cell_type": "markdown",
   "id": "e767ed60",
   "metadata": {},
   "source": [
    "*Please note: this notebook will not run fully without its shared source code. If the loading function abve fails, the shared code can be downloaded from the specified location to a local folder accessible to the runtime of the notebook.*\n",
    "\n",
    "### Markov Chain foundations\n",
    "\n",
    "I continue to have difficulties working with the Pyvis library in VSCode. However, perhaps the good news is that by converting the code to work with the Python networkx library, I will gain a better understanding. Let's go ahead and reimplement the didactic material from the lesson notebook."
   ]
  }
 ],
 "metadata": {
  "language_info": {
   "name": "python"
  }
 },
 "nbformat": 4,
 "nbformat_minor": 5
}
