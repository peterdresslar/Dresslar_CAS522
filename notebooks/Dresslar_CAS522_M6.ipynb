{
 "cells": [
  {
   "cell_type": "markdown",
   "id": "25e0d678",
   "metadata": {},
   "source": [
    "## Dresslar CAS522 M6 Notebook\n",
    "\n",
    "Consider the dynamics of the following Boolean network (Fig. 1.)\n",
    "\n",
    "<br />\n",
    "<img src=\"../public/Assignment Module 6-1.png\" width=\"400px\"/> <br />\n",
    "<span text-size=\"small\"><em>Figure 1</em><span>\n",
    "<br />\n",
    "\n",
    "\n",
    "### Question 1\n",
    "> Determine the global dynamics of the network by finding all cycles and fix-point attractors. Determine the sizes of all basins of attraction. Perform the analysis without using any numerical code.\n",
    "\n",
    "To begin, we should describe this diagram in the same manner as (Gros p.80): this is a boolean network with $N = 4$ sites and connectivities $K_i = 2$. The diagram as it is contains \"network linkage and coupling functions.\" We should be able to use these to diagram the network dynamics.\n",
    "\n",
    "Figure 2 contains the (hand-drawn) \"complete network dynamics\" (Gros p.80), along with a complete state table on the right side of the image.\n",
    "\n",
    "<br />\n",
    "<img src=\"../public/M6_dynamics.jpg\" width=\"500px\"/> <br />\n",
    "<span text-size=\"small\"><em>Figure 2</em><span>\n",
    "<br /> <br />\n",
    "\n",
    "From this diagram that we can see that we have two fixpoint attractors, `0000` and `1111`, each of which supplies a basin of attraction for a two transient states (respectively: `0001`, `0100` and `0111`, `1101`). We also have a length 2 cyclic attractor `0101 <--> 1010`: interestingly, while `1010` captures only the output of `0101`, the latter is the entrypoint of the cyclic basin for all the remaining transient states.\n"
   ]
  },
  {
   "cell_type": "markdown",
   "id": "b2ad0556",
   "metadata": {},
   "source": [
    "### Question 2\n",
    "> Then double-check your results in python, and submit your notebook. \n",
    "\n",
    "Terrific! No more dry-erase zeroes for today.\n"
   ]
  },
  {
   "cell_type": "code",
   "execution_count": 105,
   "id": "b5b478e0",
   "metadata": {},
   "outputs": [
    {
     "name": "stdout",
     "output_type": "stream",
     "text": [
      "start --> next\n",
      "[0 0 0 0] --> [0 0 0 0]\n",
      "[0 0 0 1] --> [0 0 0 0]\n",
      "[0 0 1 0] --> [0 1 0 1]\n",
      "[0 0 1 1] --> [0 1 0 1]\n",
      "[0 1 0 0] --> [0 0 0 0]\n",
      "[0 1 0 1] --> [1 0 1 0]\n",
      "[0 1 1 0] --> [0 1 0 1]\n",
      "[0 1 1 1] --> [1 1 1 1]\n",
      "[1 0 0 0] --> [0 1 0 1]\n",
      "[1 0 0 1] --> [0 1 0 1]\n",
      "[1 0 1 0] --> [0 1 0 1]\n",
      "[1 0 1 1] --> [0 1 0 1]\n",
      "[1 1 0 0] --> [0 1 0 1]\n",
      "[1 1 0 1] --> [1 1 1 1]\n",
      "[1 1 1 0] --> [0 1 0 1]\n",
      "[1 1 1 1] --> [1 1 1 1]\n"
     ]
    }
   ],
   "source": [
    "# Okay, fun time.\n",
    "\n",
    "# State, following Gros:\n",
    "import numpy as np\n",
    "\n",
    "N = 4\n",
    "\n",
    "state = np.zeros(N, dtype=bool)\n",
    "\n",
    "def f_sigma_1(state):\n",
    "    return state[1] & state[3]\n",
    "\n",
    "def f_sigma_2(state):\n",
    "    return state[0] | state[2]\n",
    "\n",
    "def f_sigma_3(state):\n",
    "    return state[1] & state[3]\n",
    "\n",
    "def f_sigma_4(state):\n",
    "    return state[0] | state[2]\n",
    "\n",
    "def update(state):\n",
    "    sigma_0 = f_sigma_1(state)\n",
    "    sigma_1 = f_sigma_2(state)\n",
    "    sigma_2 = f_sigma_3(state)\n",
    "    sigma_3 = f_sigma_4(state)\n",
    "    state = np.array([sigma_0, sigma_1, sigma_2, sigma_3])\n",
    "    return state\n",
    "\n",
    "# okay, it is very easy to simply compute all 2^N states and their first updates,\n",
    "# this should look just like the right side of my whiteboard.\n",
    "print(\"start --> next\")\n",
    "for i in range(2**N):\n",
    "    # many ways to do this but let's be explict by converting i to binary:\n",
    "    i_bin = np.binary_repr(i, width=N)\n",
    "    # now we can write i_bin to state:\n",
    "    state = np.array([int(x) for x in i_bin])  # this is kind of cheating but works fine\n",
    "    # and then we can simply print the state and its update:\n",
    "    print(f\"{state} --> {update(state)}\")\n"
   ]
  },
  {
   "cell_type": "code",
   "execution_count": 106,
   "id": "410906a3",
   "metadata": {},
   "outputs": [
    {
     "name": "stdout",
     "output_type": "stream",
     "text": [
      "start --> sigma_1 --> sigma_2 --> ... --> sigma_2^N\n",
      "[0 0 0 0] --> [0 0 0 0] --> [0 0 0 0] --> [0 0 0 0] --> [0 0 0 0] --> [0 0 0 0] --> [0 0 0 0] --> [0 0 0 0] --> [0 0 0 0] --> [0 0 0 0] --> [0 0 0 0] --> [0 0 0 0] --> [0 0 0 0] --> [0 0 0 0] --> [0 0 0 0] --> [0 0 0 0] --> [0 0 0 0]\n",
      "[0 0 0 1] --> [0 0 0 0] --> [0 0 0 0] --> [0 0 0 0] --> [0 0 0 0] --> [0 0 0 0] --> [0 0 0 0] --> [0 0 0 0] --> [0 0 0 0] --> [0 0 0 0] --> [0 0 0 0] --> [0 0 0 0] --> [0 0 0 0] --> [0 0 0 0] --> [0 0 0 0] --> [0 0 0 0] --> [0 0 0 0]\n",
      "[0 0 1 0] --> [0 1 0 1] --> [1 0 1 0] --> [0 1 0 1] --> [1 0 1 0] --> [0 1 0 1] --> [1 0 1 0] --> [0 1 0 1] --> [1 0 1 0] --> [0 1 0 1] --> [1 0 1 0] --> [0 1 0 1] --> [1 0 1 0] --> [0 1 0 1] --> [1 0 1 0] --> [0 1 0 1] --> [1 0 1 0]\n",
      "[0 0 1 1] --> [0 1 0 1] --> [1 0 1 0] --> [0 1 0 1] --> [1 0 1 0] --> [0 1 0 1] --> [1 0 1 0] --> [0 1 0 1] --> [1 0 1 0] --> [0 1 0 1] --> [1 0 1 0] --> [0 1 0 1] --> [1 0 1 0] --> [0 1 0 1] --> [1 0 1 0] --> [0 1 0 1] --> [1 0 1 0]\n",
      "[0 1 0 0] --> [0 0 0 0] --> [0 0 0 0] --> [0 0 0 0] --> [0 0 0 0] --> [0 0 0 0] --> [0 0 0 0] --> [0 0 0 0] --> [0 0 0 0] --> [0 0 0 0] --> [0 0 0 0] --> [0 0 0 0] --> [0 0 0 0] --> [0 0 0 0] --> [0 0 0 0] --> [0 0 0 0] --> [0 0 0 0]\n",
      "[0 1 0 1] --> [1 0 1 0] --> [0 1 0 1] --> [1 0 1 0] --> [0 1 0 1] --> [1 0 1 0] --> [0 1 0 1] --> [1 0 1 0] --> [0 1 0 1] --> [1 0 1 0] --> [0 1 0 1] --> [1 0 1 0] --> [0 1 0 1] --> [1 0 1 0] --> [0 1 0 1] --> [1 0 1 0] --> [0 1 0 1]\n",
      "[0 1 1 0] --> [0 1 0 1] --> [1 0 1 0] --> [0 1 0 1] --> [1 0 1 0] --> [0 1 0 1] --> [1 0 1 0] --> [0 1 0 1] --> [1 0 1 0] --> [0 1 0 1] --> [1 0 1 0] --> [0 1 0 1] --> [1 0 1 0] --> [0 1 0 1] --> [1 0 1 0] --> [0 1 0 1] --> [1 0 1 0]\n",
      "[0 1 1 1] --> [1 1 1 1] --> [1 1 1 1] --> [1 1 1 1] --> [1 1 1 1] --> [1 1 1 1] --> [1 1 1 1] --> [1 1 1 1] --> [1 1 1 1] --> [1 1 1 1] --> [1 1 1 1] --> [1 1 1 1] --> [1 1 1 1] --> [1 1 1 1] --> [1 1 1 1] --> [1 1 1 1] --> [1 1 1 1]\n",
      "[1 0 0 0] --> [0 1 0 1] --> [1 0 1 0] --> [0 1 0 1] --> [1 0 1 0] --> [0 1 0 1] --> [1 0 1 0] --> [0 1 0 1] --> [1 0 1 0] --> [0 1 0 1] --> [1 0 1 0] --> [0 1 0 1] --> [1 0 1 0] --> [0 1 0 1] --> [1 0 1 0] --> [0 1 0 1] --> [1 0 1 0]\n",
      "[1 0 0 1] --> [0 1 0 1] --> [1 0 1 0] --> [0 1 0 1] --> [1 0 1 0] --> [0 1 0 1] --> [1 0 1 0] --> [0 1 0 1] --> [1 0 1 0] --> [0 1 0 1] --> [1 0 1 0] --> [0 1 0 1] --> [1 0 1 0] --> [0 1 0 1] --> [1 0 1 0] --> [0 1 0 1] --> [1 0 1 0]\n",
      "[1 0 1 0] --> [0 1 0 1] --> [1 0 1 0] --> [0 1 0 1] --> [1 0 1 0] --> [0 1 0 1] --> [1 0 1 0] --> [0 1 0 1] --> [1 0 1 0] --> [0 1 0 1] --> [1 0 1 0] --> [0 1 0 1] --> [1 0 1 0] --> [0 1 0 1] --> [1 0 1 0] --> [0 1 0 1] --> [1 0 1 0]\n",
      "[1 0 1 1] --> [0 1 0 1] --> [1 0 1 0] --> [0 1 0 1] --> [1 0 1 0] --> [0 1 0 1] --> [1 0 1 0] --> [0 1 0 1] --> [1 0 1 0] --> [0 1 0 1] --> [1 0 1 0] --> [0 1 0 1] --> [1 0 1 0] --> [0 1 0 1] --> [1 0 1 0] --> [0 1 0 1] --> [1 0 1 0]\n",
      "[1 1 0 0] --> [0 1 0 1] --> [1 0 1 0] --> [0 1 0 1] --> [1 0 1 0] --> [0 1 0 1] --> [1 0 1 0] --> [0 1 0 1] --> [1 0 1 0] --> [0 1 0 1] --> [1 0 1 0] --> [0 1 0 1] --> [1 0 1 0] --> [0 1 0 1] --> [1 0 1 0] --> [0 1 0 1] --> [1 0 1 0]\n",
      "[1 1 0 1] --> [1 1 1 1] --> [1 1 1 1] --> [1 1 1 1] --> [1 1 1 1] --> [1 1 1 1] --> [1 1 1 1] --> [1 1 1 1] --> [1 1 1 1] --> [1 1 1 1] --> [1 1 1 1] --> [1 1 1 1] --> [1 1 1 1] --> [1 1 1 1] --> [1 1 1 1] --> [1 1 1 1] --> [1 1 1 1]\n",
      "[1 1 1 0] --> [0 1 0 1] --> [1 0 1 0] --> [0 1 0 1] --> [1 0 1 0] --> [0 1 0 1] --> [1 0 1 0] --> [0 1 0 1] --> [1 0 1 0] --> [0 1 0 1] --> [1 0 1 0] --> [0 1 0 1] --> [1 0 1 0] --> [0 1 0 1] --> [1 0 1 0] --> [0 1 0 1] --> [1 0 1 0]\n",
      "[1 1 1 1] --> [1 1 1 1] --> [1 1 1 1] --> [1 1 1 1] --> [1 1 1 1] --> [1 1 1 1] --> [1 1 1 1] --> [1 1 1 1] --> [1 1 1 1] --> [1 1 1 1] --> [1 1 1 1] --> [1 1 1 1] --> [1 1 1 1] --> [1 1 1 1] --> [1 1 1 1] --> [1 1 1 1] --> [1 1 1 1]\n"
     ]
    }
   ],
   "source": [
    "# But now we want to find all cycles and fix-point attractors. We are fortunate to have a useful constraint, here: no cycle\n",
    "# can be longer than 2^N = 16 steps. Thus, brute force is easy. So, the following might be a useful overview, if not exactly what we want.\n",
    "\n",
    "print(\"start --> sigma_1 --> sigma_2 --> ... --> sigma_2^N\")\n",
    "for i in range(2**N):\n",
    "    i_bin = np.binary_repr(i, width=N)\n",
    "    state = np.array([int(x) for x in i_bin])\n",
    "    # and then we can piece together a single line of update outputs:\n",
    "    line = f\"{state}\"\n",
    "    for j in range(2**N):\n",
    "        new_state = update(state)\n",
    "        line += f\" --> {new_state}\"\n",
    "        state = new_state\n",
    "    print(line)\n"
   ]
  },
  {
   "cell_type": "code",
   "execution_count": 108,
   "id": "807aedcb",
   "metadata": {},
   "outputs": [
    {
     "name": "stdout",
     "output_type": "stream",
     "text": [
      "start --> cycle: cycle length\n",
      "--------------------------------\n",
      "0000 --> [array([0, 0, 0, 0])]: cycle length 1\n",
      "0001 --> [array([0, 0, 0, 0])]: cycle length 1\n",
      "0010 --> [array([0, 1, 0, 1]), array([1, 0, 1, 0])]: cycle length 2\n",
      "0011 --> [array([0, 1, 0, 1]), array([1, 0, 1, 0])]: cycle length 2\n",
      "0100 --> [array([0, 0, 0, 0])]: cycle length 1\n",
      "0101 --> [array([0, 1, 0, 1]), array([1, 0, 1, 0])]: cycle length 2\n",
      "0110 --> [array([0, 1, 0, 1]), array([1, 0, 1, 0])]: cycle length 2\n",
      "0111 --> [array([1, 1, 1, 1])]: cycle length 1\n",
      "1000 --> [array([0, 1, 0, 1]), array([1, 0, 1, 0])]: cycle length 2\n",
      "1001 --> [array([0, 1, 0, 1]), array([1, 0, 1, 0])]: cycle length 2\n",
      "1010 --> [array([1, 0, 1, 0]), array([0, 1, 0, 1])]: cycle length 2\n",
      "1011 --> [array([0, 1, 0, 1]), array([1, 0, 1, 0])]: cycle length 2\n",
      "1100 --> [array([0, 1, 0, 1]), array([1, 0, 1, 0])]: cycle length 2\n",
      "1101 --> [array([1, 1, 1, 1])]: cycle length 1\n",
      "1110 --> [array([0, 1, 0, 1]), array([1, 0, 1, 0])]: cycle length 2\n",
      "1111 --> [array([1, 1, 1, 1])]: cycle length 1\n"
     ]
    }
   ],
   "source": [
    "# .... We are going to need to do a lot better. Basically we need to track our states and search. What we can see from the view above is that\n",
    "# the pattern we are searching for is when a state *repeats* in the sequence. Then, the sequence of states between repeats is our cycle. We might \n",
    "# track that sequence as an array, since our first and last states are important for us to understand our system dynamics.\n",
    "# (commented prints can be uncommented to see the process)\n",
    "\n",
    "def get_idx_of_np_array_in_list(np_array_to_check, list_np_arrays):\n",
    "    # returns -1 if not found: otherwise returns index of first occurence\n",
    "    #print(f\"list_np_arrays: {len(list_np_arrays)}\")\n",
    "    for i, arr in enumerate(list_np_arrays):\n",
    "        #print(f\"testing {np_array_to_check} against {arr}\")\n",
    "        if np.array_equal(np_array_to_check, arr):\n",
    "            #print(f\"found at index {i}\")\n",
    "            return i\n",
    "    return -1\n",
    "\n",
    "\n",
    "print(\"start --> cycle: cycle length\")\n",
    "print(\"--------------------------------\")\n",
    "for i in range(2**N):\n",
    "    i_bin = np.binary_repr(i, width=N)\n",
    "    starting_state = np.array([int(x) for x in i_bin])\n",
    "    state = starting_state\n",
    "    path = [state]\n",
    "    while True:\n",
    "        new_state = update(state)\n",
    "        # check j_vals to see if there is already an entry for new_state\n",
    "        # note we are using numpy, so it is a bit more work to check if an array is in a list of arrays\n",
    "        idx_if_present = get_idx_of_np_array_in_list(new_state, path)  # get index or -1\n",
    "        if idx_if_present > -1: # we have seen this state before\n",
    "            cycle_start = idx_if_present\n",
    "            cycle = path[idx_if_present:] \n",
    "            print(f\"{i_bin} --> {cycle}: cycle length {len(cycle)}\")\n",
    "            break\n",
    "        state = new_state\n",
    "        path.append(new_state)\n",
    "\n"
   ]
  }
 ],
 "metadata": {
  "kernelspec": {
   "display_name": ".venv",
   "language": "python",
   "name": "python3"
  },
  "language_info": {
   "codemirror_mode": {
    "name": "ipython",
    "version": 3
   },
   "file_extension": ".py",
   "mimetype": "text/x-python",
   "name": "python",
   "nbconvert_exporter": "python",
   "pygments_lexer": "ipython3",
   "version": "3.11.11"
  }
 },
 "nbformat": 4,
 "nbformat_minor": 5
}
