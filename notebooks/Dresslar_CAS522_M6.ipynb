{
 "cells": [
  {
   "cell_type": "markdown",
   "id": "25e0d678",
   "metadata": {},
   "source": [
    "## Dresslar CAS522 M6 Notebook\n",
    "\n",
    "Consider the dynamics of the following Boolean network:\n",
    "\n",
    "<br />\n",
    "<img src=\"../public/Assignment Module 6-1.png\" width=\"400px\"/>\n",
    "<br />\n",
    "\n",
    "### Question 1\n",
    "> Determine the global dynamics of the network by finding all cycles and fix-point attractors. Determine the sizes of all basins of attraction. Perform the analysis without using any numerical code.\n"
   ]
  },
  {
   "cell_type": "markdown",
   "id": "b2ad0556",
   "metadata": {},
   "source": [
    "### Question 2\n",
    "> Then double-check your results in python, and submit your notebook. \n"
   ]
  }
 ],
 "metadata": {
  "language_info": {
   "name": "python"
  }
 },
 "nbformat": 4,
 "nbformat_minor": 5
}
